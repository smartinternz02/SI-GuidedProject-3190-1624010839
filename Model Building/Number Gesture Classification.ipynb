{
 "cells": [
  {
   "cell_type": "code",
   "execution_count": 1,
   "metadata": {},
   "outputs": [],
   "source": [
    "from keras.preprocessing.image import ImageDataGenerator"
   ]
  },
  {
   "cell_type": "code",
   "execution_count": 2,
   "metadata": {},
   "outputs": [],
   "source": [
    "train_datagen = ImageDataGenerator(rescale=1./255,shear_range=0.2,zoom_range=0.2,horizontal_flip=True)\n",
    "test_datagen = ImageDataGenerator(rescale=1./255)"
   ]
  },
  {
   "cell_type": "code",
   "execution_count": 3,
   "metadata": {},
   "outputs": [
    {
     "name": "stdout",
     "output_type": "stream",
     "text": [
      "Found 594 images belonging to 6 classes.\n",
      "Found 30 images belonging to 6 classes.\n"
     ]
    }
   ],
   "source": [
    "x_train = train_datagen.flow_from_directory('C:\\\\Users\\\\dell\\\\Downloads\\\\externship project\\\\externship project\\\\Dataset\\\\train',target_size=(64,64),batch_size=5,color_mode='grayscale',class_mode='categorical')\n",
    "x_test = test_datagen.flow_from_directory('C:\\\\Users\\\\dell\\\\Downloads\\\\externship project\\\\externship project\\\\Dataset\\\\test',target_size=(64,64),batch_size=5,color_mode='grayscale',class_mode='categorical')"
   ]
  },
  {
   "cell_type": "code",
   "execution_count": 4,
   "metadata": {},
   "outputs": [],
   "source": [
    "import numpy as np#used for numerical analysis\n",
    "\n",
    "import tensorflow #open source used for both ML and DL for computation\n",
    "\n",
    "from tensorflow.keras.models import Sequential #it is a plain stack of layers\n",
    "\n",
    "from tensorflow.keras import layers #A Layer consists of a tensor-in tensor-out comp #Dense Layer is the regular deeply connected neural network Layer\n",
    "\n",
    "from tensorflow.keras.layers import Dense, Flatten\n",
    "\n",
    "#Faltten-used fot flattening the input or change the dimension\n",
    "\n",
    "from tensorflow.keras.layers import Conv2D, MaxPooling2D #Convolutional Layer\n",
    "\n",
    "#MaxPooling2D-for downsampling the image\n",
    "\n",
    "from keras.preprocessing.image import ImageDataGenerator"
   ]
  },
  {
   "cell_type": "code",
   "execution_count": 5,
   "metadata": {},
   "outputs": [],
   "source": [
    "#import keras libraries\n",
    "from keras.models import Sequential\n",
    "from keras.layers import Dense\n",
    "from keras.layers import Conv2D\n",
    "from keras.layers import MaxPooling2D"
   ]
  },
  {
   "cell_type": "code",
   "execution_count": 6,
   "metadata": {},
   "outputs": [],
   "source": [
    "model = Sequential()"
   ]
  },
  {
   "cell_type": "code",
   "execution_count": 7,
   "metadata": {},
   "outputs": [],
   "source": [
    "model.add(Conv2D(32, (3, 3), input_shape=(64, 64, 1), activation='relu'))\n",
    "model.add(MaxPooling2D(pool_size=(2, 2)))\n",
    "\n",
    "# Second convolution Layer and pooling\n",
    "\n",
    "model.add(Conv2D(32, (3, 3), activation='relu'))\n",
    "\n",
    "# input shape is going to be the pooled feature maps from the previous convolution Lam\n",
    "\n",
    "model.add(MaxPooling2D(pool_size=(2, 2)))\n",
    "\n",
    "#Flattening the Layers\n",
    "model.add(Flatten())"
   ]
  },
  {
   "cell_type": "code",
   "execution_count": 8,
   "metadata": {},
   "outputs": [],
   "source": [
    "# Adding a fully connected Layer\n",
    "\n",
    "model.add(Dense(units=128, activation='relu'))\n",
    "\n",
    "model.add(Dense(units= 6, activation='softmax'))#softmak for any"
   ]
  },
  {
   "cell_type": "code",
   "execution_count": 9,
   "metadata": {},
   "outputs": [],
   "source": [
    "#Compiling the model\n",
    "\n",
    "# Compiling the CNN\n",
    "\n",
    "#categorical_crossentropy for more than 2\n",
    "\n",
    "model.compile(optimizer='adam', loss='categorical_crossentropy', metrics=['accuracy'])"
   ]
  },
  {
   "cell_type": "code",
   "execution_count": 10,
   "metadata": {},
   "outputs": [
    {
     "name": "stderr",
     "output_type": "stream",
     "text": [
      "C:\\Users\\dell\\anaconda3\\lib\\site-packages\\tensorflow\\python\\keras\\engine\\training.py:1844: UserWarning: `Model.fit_generator` is deprecated and will be removed in a future version. Please use `Model.fit`, which supports generators.\n",
      "  warnings.warn('`Model.fit_generator` is deprecated and '\n"
     ]
    },
    {
     "name": "stdout",
     "output_type": "stream",
     "text": [
      "Epoch 1/20\n",
      "119/119 [==============================] - 3s 25ms/step - loss: 1.6329 - accuracy: 0.2958 - val_loss: 0.7216 - val_accuracy: 0.7000\n",
      "Epoch 2/20\n",
      "119/119 [==============================] - 2s 17ms/step - loss: 0.6987 - accuracy: 0.7511 - val_loss: 0.4296 - val_accuracy: 0.9333\n",
      "Epoch 3/20\n",
      "119/119 [==============================] - 2s 16ms/step - loss: 0.5020 - accuracy: 0.8323 - val_loss: 0.3626 - val_accuracy: 0.8333\n",
      "Epoch 4/20\n",
      "119/119 [==============================] - 2s 17ms/step - loss: 0.3452 - accuracy: 0.8885 - val_loss: 0.4320 - val_accuracy: 0.8333\n",
      "Epoch 5/20\n",
      "119/119 [==============================] - 2s 16ms/step - loss: 0.3067 - accuracy: 0.8832 - val_loss: 0.3534 - val_accuracy: 0.9000\n",
      "Epoch 6/20\n",
      "119/119 [==============================] - 2s 17ms/step - loss: 0.2417 - accuracy: 0.9232 - val_loss: 0.5062 - val_accuracy: 0.8000\n",
      "Epoch 7/20\n",
      "119/119 [==============================] - 2s 17ms/step - loss: 0.2134 - accuracy: 0.9107 - val_loss: 0.2801 - val_accuracy: 0.9333\n",
      "Epoch 8/20\n",
      "119/119 [==============================] - 2s 17ms/step - loss: 0.1830 - accuracy: 0.9342 - val_loss: 0.2895 - val_accuracy: 0.9000\n",
      "Epoch 9/20\n",
      "119/119 [==============================] - 2s 17ms/step - loss: 0.1183 - accuracy: 0.9666 - val_loss: 0.6076 - val_accuracy: 0.8333\n",
      "Epoch 10/20\n",
      "119/119 [==============================] - 2s 17ms/step - loss: 0.1240 - accuracy: 0.9447 - val_loss: 0.4040 - val_accuracy: 0.9000\n",
      "Epoch 11/20\n",
      "119/119 [==============================] - 2s 17ms/step - loss: 0.1357 - accuracy: 0.9553 - val_loss: 0.1968 - val_accuracy: 0.9667\n",
      "Epoch 12/20\n",
      "119/119 [==============================] - 2s 17ms/step - loss: 0.1266 - accuracy: 0.9405 - val_loss: 0.2516 - val_accuracy: 0.9333\n",
      "Epoch 13/20\n",
      "119/119 [==============================] - 2s 17ms/step - loss: 0.0783 - accuracy: 0.9746 - val_loss: 0.1583 - val_accuracy: 0.9333\n",
      "Epoch 14/20\n",
      "119/119 [==============================] - 2s 17ms/step - loss: 0.0591 - accuracy: 0.9844 - val_loss: 0.4360 - val_accuracy: 0.9333\n",
      "Epoch 15/20\n",
      "119/119 [==============================] - 2s 17ms/step - loss: 0.0594 - accuracy: 0.9803 - val_loss: 0.0678 - val_accuracy: 0.9667\n",
      "Epoch 16/20\n",
      "119/119 [==============================] - 2s 17ms/step - loss: 0.0728 - accuracy: 0.9700 - val_loss: 0.1068 - val_accuracy: 0.9667\n",
      "Epoch 17/20\n",
      "119/119 [==============================] - 2s 17ms/step - loss: 0.0584 - accuracy: 0.9776 - val_loss: 0.1188 - val_accuracy: 0.9333\n",
      "Epoch 18/20\n",
      "119/119 [==============================] - 2s 17ms/step - loss: 0.0509 - accuracy: 0.9803 - val_loss: 0.1781 - val_accuracy: 0.9667\n",
      "Epoch 19/20\n",
      "119/119 [==============================] - 2s 17ms/step - loss: 0.0262 - accuracy: 0.9912 - val_loss: 0.2040 - val_accuracy: 0.9333\n",
      "Epoch 20/20\n",
      "119/119 [==============================] - 2s 17ms/step - loss: 0.0880 - accuracy: 0.9637 - val_loss: 0.3372 - val_accuracy: 0.8333\n"
     ]
    },
    {
     "data": {
      "text/plain": [
       "<tensorflow.python.keras.callbacks.History at 0x1bd427251c0>"
      ]
     },
     "execution_count": 10,
     "metadata": {},
     "output_type": "execute_result"
    }
   ],
   "source": [
    "model.fit_generator(generator=x_train, steps_per_epoch = len(x_train), epochs=20, validation_data=x_test, validation_steps = len(x_test))"
   ]
  },
  {
   "cell_type": "code",
   "execution_count": 11,
   "metadata": {},
   "outputs": [],
   "source": [
    "# Save the model\n",
    "model.save('gesture.h5')\n",
    "\n",
    "model_json = model.to_json()\n",
    "\n",
    "with open(\"model-bw.json\", \"w\") as json_file:\n",
    "    json_file.write(model_json)"
   ]
  },
  {
   "cell_type": "code",
   "execution_count": 12,
   "metadata": {},
   "outputs": [
    {
     "name": "stderr",
     "output_type": "stream",
     "text": [
      "C:\\Users\\dell\\anaconda3\\lib\\site-packages\\keras_preprocessing\\image\\utils.py:107: UserWarning: grayscale is deprecated. Please use color_mode = \"grayscale\"\n",
      "  warnings.warn('grayscale is deprecated. Please use '\n",
      "C:\\Users\\dell\\anaconda3\\lib\\site-packages\\tensorflow\\python\\keras\\engine\\sequential.py:450: UserWarning: `model.predict_classes()` is deprecated and will be removed after 2021-01-01. Please use instead:* `np.argmax(model.predict(x), axis=-1)`,   if your model does multi-class classification   (e.g. if it uses a `softmax` last-layer activation).* `(model.predict(x) > 0.5).astype(\"int32\")`,   if your model does binary classification   (e.g. if it uses a `sigmoid` last-layer activation).\n",
      "  warnings.warn('`model.predict_classes()` is deprecated and '\n"
     ]
    },
    {
     "data": {
      "text/plain": [
       "array([1], dtype=int64)"
      ]
     },
     "execution_count": 12,
     "metadata": {},
     "output_type": "execute_result"
    }
   ],
   "source": [
    "from tensorflow.keras.models import load_model\n",
    "\n",
    "from keras.preprocessing import image\n",
    "\n",
    "model = load_model(\"gesture.h5\") #Loading the model for testing\n",
    "\n",
    "#Taking an image as input and checking the results\n",
    "\n",
    "img=image.load_img(r\"C:\\Users\\dell\\Downloads\\externship project\\externship project\\Dataset\\test\\1\\1.jpg\",grayscale=True, target_size= (64,64)) #Loading of the image\n",
    "\n",
    "x = image.img_to_array(img)#image to array\n",
    "\n",
    "x = np.expand_dims (x,axis = 0)\n",
    "#changing the shape\n",
    "\n",
    "pred =  model.predict_classes (x)#predicting the classes pred\n",
    "pred"
   ]
  },
  {
   "cell_type": "code",
   "execution_count": 13,
   "metadata": {},
   "outputs": [
    {
     "data": {
      "text/plain": [
       "'1'"
      ]
     },
     "execution_count": 13,
     "metadata": {},
     "output_type": "execute_result"
    }
   ],
   "source": [
    "index=['0', '1', '2', '3', '4', '5']\n",
    "\n",
    "result=str(index [pred[0]])\n",
    "\n",
    "result"
   ]
  },
  {
   "cell_type": "code",
   "execution_count": null,
   "metadata": {},
   "outputs": [],
   "source": []
  }
 ],
 "metadata": {
  "kernelspec": {
   "display_name": "Python 3",
   "language": "python",
   "name": "python3"
  },
  "language_info": {
   "codemirror_mode": {
    "name": "ipython",
    "version": 3
   },
   "file_extension": ".py",
   "mimetype": "text/x-python",
   "name": "python",
   "nbconvert_exporter": "python",
   "pygments_lexer": "ipython3",
   "version": "3.8.5"
  }
 },
 "nbformat": 4,
 "nbformat_minor": 5
}
